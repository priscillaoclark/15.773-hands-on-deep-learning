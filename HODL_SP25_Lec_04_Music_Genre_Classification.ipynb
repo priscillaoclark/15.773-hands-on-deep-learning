{
  "nbformat": 4,
  "nbformat_minor": 0,
  "metadata": {
    "colab": {
      "provenance": [],
      "machine_shape": "hm",
      "gpuType": "A100",
      "include_colab_link": true
    },
    "kernelspec": {
      "display_name": "Python 3",
      "name": "python3"
    },
    "language_info": {
      "name": "python"
    },
    "accelerator": "GPU"
  },
  "cells": [
    {
      "cell_type": "markdown",
      "metadata": {
        "id": "view-in-github",
        "colab_type": "text"
      },
      "source": [
        "<a href=\"https://colab.research.google.com/github/priscillaoclark/15.773-hands-on-deep-learning/blob/main/HODL_SP25_Lec_04_Music_Genre_Classification.ipynb\" target=\"_parent\"><img src=\"https://colab.research.google.com/assets/colab-badge.svg\" alt=\"Open In Colab\"/></a>"
      ]
    },
    {
      "cell_type": "markdown",
      "source": [
        "# Music Genre Classification"
      ],
      "metadata": {
        "id": "7ejR5Ze9QqSQ"
      }
    },
    {
      "cell_type": "markdown",
      "source": [
        "## Introduction"
      ],
      "metadata": {
        "id": "vhNSYyiLQmBJ"
      }
    },
    {
      "cell_type": "markdown",
      "metadata": {
        "id": "fuUhAe9CfztS"
      },
      "source": [
        "\n",
        "In this notebook we will look at a dataset of song lyrics and will train models that will predict the genre of the song among three possible options: Rock, Pop, and Hip-Hop. This corresponds to a multi-class classification task.\n",
        "\n",
        "We will cover how to preprocess the text using **standarization** and **tokenization**. Then, we will think on how to represent the words in a way that can be understood by a Deep Learning model. We'll talk about **one-hot encoding**, the **bag-of-words** model and the use of bigrams.\n",
        "\n"
      ]
    },
    {
      "cell_type": "markdown",
      "source": [
        "## The TextVectorization Layer"
      ],
      "metadata": {
        "id": "zmgAAbqeQZ_4"
      }
    },
    {
      "cell_type": "markdown",
      "source": [
        "Usual technical preliminaries ..."
      ],
      "metadata": {
        "id": "KKyaP5zKQ1iF"
      }
    },
    {
      "cell_type": "code",
      "source": [
        "import os\n",
        "os.environ['KERAS_BACKEND'] = 'tensorflow'"
      ],
      "metadata": {
        "id": "CbS7KyMIYTsJ"
      },
      "execution_count": null,
      "outputs": []
    },
    {
      "cell_type": "code",
      "metadata": {
        "id": "EHjmcrgSjKfD"
      },
      "source": [
        "import keras\n",
        "import numpy as np\n",
        "import pandas as pd\n",
        "import matplotlib.pyplot as plt\n",
        "\n",
        "keras.utils.set_random_seed(42)"
      ],
      "execution_count": null,
      "outputs": []
    },
    {
      "cell_type": "markdown",
      "source": [
        "The STIE process we described in class - Standardize, Tokenize, Index, and Encode - ....\n",
        "\n",
        "![image.png](data:image/png;base64,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)\n",
        "\n",
        "... is implemented by the `TextVectorization` layer.\n",
        "\n",
        "We first configure the layer by telling it what S, T, I, and E we want.\n",
        "\n",
        "In our first example,\n",
        "- we use the default standarization which will remove punctuation and covert to lowercase.\n",
        "- we use the default tokenization at a word level, by setting `split='whitespace'`.\n",
        "- we set the output mode to `multi_hot`"
      ],
      "metadata": {
        "id": "Jp_oqymHZxai"
      }
    },
    {
      "cell_type": "code",
      "metadata": {
        "id": "xK_ImVPlEMsq"
      },
      "source": [
        "text_vectorization = keras.layers.TextVectorization(\n",
        "    output_mode = 'multi_hot',\n",
        "    standardize='lower_and_strip_punctuation',\n",
        "    split='whitespace'\n",
        ")"
      ],
      "execution_count": null,
      "outputs": []
    },
    {
      "cell_type": "markdown",
      "metadata": {
        "id": "rOB0zfvZnT-_"
      },
      "source": [
        "Now that the layer has been configured, we have to run it on a bunch of text to \"populate\" it.\n",
        "\n",
        "We use the `adapt()` method for this.\n",
        "\n"
      ]
    },
    {
      "cell_type": "code",
      "metadata": {
        "id": "obZDrQbfmwGS"
      },
      "source": [
        "dataset = [\n",
        "    \"I write, erase, rewrite\",\n",
        "    \"Erase again, and then\",\n",
        "    \"A poppy blooms.\",\n",
        "    \"Hola! are you laid-back in Mexico\"\n",
        "]"
      ],
      "execution_count": null,
      "outputs": []
    },
    {
      "cell_type": "code",
      "source": [
        "# Index vocabulary of the text\n",
        "text_vectorization.adapt(dataset)"
      ],
      "metadata": {
        "id": "uU_glARLoikS"
      },
      "execution_count": null,
      "outputs": []
    },
    {
      "cell_type": "markdown",
      "source": [
        "\n",
        "Once we do that, we can use `get_vocabulary()` to see what exactly has been done.\n"
      ],
      "metadata": {
        "id": "eAODX4rAbMbe"
      }
    },
    {
      "cell_type": "code",
      "source": [
        "# Retrieve the vocabulary\n",
        "vocabulary = text_vectorization.get_vocabulary()"
      ],
      "metadata": {
        "id": "3l_OsbORbGux"
      },
      "execution_count": null,
      "outputs": []
    },
    {
      "cell_type": "markdown",
      "source": [
        "What's the size of our vocabulary?"
      ],
      "metadata": {
        "id": "gRi1EOa37rbP"
      }
    },
    {
      "cell_type": "code",
      "source": [
        "len(vocabulary)"
      ],
      "metadata": {
        "colab": {
          "base_uri": "https://localhost:8080/"
        },
        "id": "z8WAMwU78TPR",
        "outputId": "2155e507-d011-4362-b985-99541158fcd8"
      },
      "execution_count": null,
      "outputs": [
        {
          "output_type": "execute_result",
          "data": {
            "text/plain": [
              "17"
            ]
          },
          "metadata": {},
          "execution_count": 7
        }
      ]
    },
    {
      "cell_type": "code",
      "source": [
        "print('Vocabulary:')\n",
        "print(vocabulary)"
      ],
      "metadata": {
        "colab": {
          "base_uri": "https://localhost:8080/"
        },
        "id": "m8mLvlJ2YJ5u",
        "outputId": "2b162909-d676-4a82-98cf-dad608955ca8"
      },
      "execution_count": null,
      "outputs": [
        {
          "output_type": "stream",
          "name": "stdout",
          "text": [
            "Vocabulary:\n",
            "['[UNK]', 'erase', 'you', 'write', 'then', 'rewrite', 'poppy', 'mexico', 'laidback', 'in', 'i', 'hola', 'blooms', 'are', 'and', 'again', 'a']\n"
          ]
        }
      ]
    },
    {
      "cell_type": "markdown",
      "source": [
        "**Little programming tip**: If you want to pretty-print a Python object, just make a Pandas dataframe out of it and print the dataframe. It will work only when the object has the same length for all its fields but it is worth a try."
      ],
      "metadata": {
        "id": "NKXTkSt8YTRb"
      }
    },
    {
      "cell_type": "code",
      "source": [
        "print('Vocabulary:')\n",
        "print(pd.DataFrame(vocabulary))"
      ],
      "metadata": {
        "colab": {
          "base_uri": "https://localhost:8080/"
        },
        "id": "yipC7VRhW-nd",
        "outputId": "f50bbe2a-35c4-42e0-b625-cdfb567a8dce"
      },
      "execution_count": null,
      "outputs": [
        {
          "output_type": "stream",
          "name": "stdout",
          "text": [
            "Vocabulary:\n",
            "           0\n",
            "0      [UNK]\n",
            "1      erase\n",
            "2        you\n",
            "3      write\n",
            "4       then\n",
            "5    rewrite\n",
            "6      poppy\n",
            "7     mexico\n",
            "8   laidback\n",
            "9         in\n",
            "10         i\n",
            "11      hola\n",
            "12    blooms\n",
            "13       are\n",
            "14       and\n",
            "15     again\n",
            "16         a\n"
          ]
        }
      ]
    },
    {
      "cell_type": "markdown",
      "source": [
        "\n",
        "**Note:** Note that the integer 0 is assigned to the `'[UNK]'` \"token\".  When the model is used for prediction, it may be \"fed\" a word that's not present in the vocabulary. The `'[UNK]'` token will used to represent such words.\n",
        "\n",
        "Now that we have configured and populated the `TextVectorization` layer, we can run any sentence through it easily."
      ],
      "metadata": {
        "id": "xkP4eGF0bfR9"
      }
    },
    {
      "cell_type": "code",
      "metadata": {
        "colab": {
          "base_uri": "https://localhost:8080/"
        },
        "id": "Nk0EwnLVntbl",
        "outputId": "a06d1eaa-c2d1-4232-d7ea-2e43e7d9968d"
      },
      "source": [
        "# Encode and decode an example sentence\n",
        "test_sentence = \"I write, rewrite, and still rewrite again\"\n",
        "encoded_sentence = text_vectorization(test_sentence)\n",
        "print(encoded_sentence)\n"
      ],
      "execution_count": null,
      "outputs": [
        {
          "output_type": "stream",
          "name": "stdout",
          "text": [
            "tf.Tensor([1 0 0 1 0 1 0 0 0 0 1 0 0 0 1 1 0], shape=(17,), dtype=int64)\n"
          ]
        }
      ]
    },
    {
      "cell_type": "markdown",
      "source": [
        "It is a 0-1 vector that is as long as our vocabulary (i.e., 17).\n",
        "\n",
        "Recall that the `'[UNK]'` token is at index 0 and the encoded sentence does have a 1 in that position.\n",
        "\n",
        "**Why?**\n",
        "\n",
        "<pre>\n",
        "\n",
        "\n",
        "\n",
        "\n",
        "\n",
        "\n",
        "\n",
        "\n",
        "\n",
        "\n",
        "\n",
        "\n",
        "\n",
        "\n",
        "\n",
        "</pre>\n",
        "\n",
        "\n",
        "Because the word \"still\" was not in our vocab.\n"
      ],
      "metadata": {
        "id": "JB74hKpPdfJJ"
      }
    },
    {
      "cell_type": "code",
      "source": [
        "\"still\" in vocabulary"
      ],
      "metadata": {
        "colab": {
          "base_uri": "https://localhost:8080/"
        },
        "id": "3-gwRlz9-5Dl",
        "outputId": "7b18ffcd-3ae4-4f17-9b03-3edd63b1be98"
      },
      "execution_count": null,
      "outputs": [
        {
          "output_type": "execute_result",
          "data": {
            "text/plain": [
              "False"
            ]
          },
          "metadata": {},
          "execution_count": 11
        }
      ]
    },
    {
      "cell_type": "markdown",
      "source": [
        "In the spirit of \"make small changes to the code to really understand what's going on\" ...\n",
        "\n",
        "What do you think `text_vectorization(\"Sloan, HODL, DMD\")` will be represented as?\n",
        "\n",
        "<pre>\n",
        "\n",
        "\n",
        "\n",
        "\n",
        "\n",
        "\n",
        "\n",
        "\n",
        "\n",
        "\n",
        "\n",
        "\n",
        "\n",
        "\n",
        "\n",
        "</pre>\n"
      ],
      "metadata": {
        "id": "IiElSzlYfKyc"
      }
    },
    {
      "cell_type": "code",
      "source": [
        "text_vectorization(\"Sloan, HODL, DMD\")"
      ],
      "metadata": {
        "colab": {
          "base_uri": "https://localhost:8080/"
        },
        "id": "mHOHXNHXehTP",
        "outputId": "5fd53532-c82d-42b9-b0a4-f0d10329258d"
      },
      "execution_count": null,
      "outputs": [
        {
          "output_type": "execute_result",
          "data": {
            "text/plain": [
              "<tf.Tensor: shape=(17,), dtype=int64, numpy=array([1, 0, 0, 0, 0, 0, 0, 0, 0, 0, 0, 0, 0, 0, 0, 0, 0])>"
            ]
          },
          "metadata": {},
          "execution_count": 12
        }
      ]
    },
    {
      "cell_type": "markdown",
      "metadata": {
        "id": "SnpfaqyKRysz"
      },
      "source": [
        "The first index is 1 and all the values are zero! Because none of these words were present in the text we used to populate the layer.\n",
        "\n",
        "\n",
        "Now that we understand how the vectorization works, we will use the `TextVectorization` layer everytime we want to convert text into readable input for our Deep Learning models."
      ]
    },
    {
      "cell_type": "markdown",
      "source": [
        "## Retrieving and preparing the Data\n"
      ],
      "metadata": {
        "id": "M_e2yrcURl2C"
      }
    },
    {
      "cell_type": "markdown",
      "metadata": {
        "id": "TYaoGIaOpo2Z"
      },
      "source": [
        "\n",
        "We will work with a dataset that contains the lyrics of almost 90K different songs and its corresponding main genre.\n",
        "\n",
        "You can find the data in the file `lyric_genre.csv` after downloading it.\n",
        "\n",
        "Let's inspect it first!\n"
      ]
    },
    {
      "cell_type": "code",
      "source": [
        "train_url = \"https://www.dropbox.com/scl/fi/ito6bnl2yaf1uw0uqibzf/lyric_genre_train.csv?rlkey=04dkn5un2djza8x0bdmfnlw3u&st=y47qh8i4&dl=1\"\n",
        "val_url = \"https://www.dropbox.com/scl/fi/xmywjzqsaa8n5sn1bs0t9/lyric_genre_val.csv?rlkey=hggbeo0s1iaxjpa6z80429xl9&st=6i7d8eau&dl=1\"\n",
        "test_url = \"https://www.dropbox.com/scl/fi/fnocl69w9ojs9s5zb0xvf/lyric_genre_test.csv?rlkey=z4hjopw7vaihoh948cbb5mvdp&st=xwond7dp&dl=1\""
      ],
      "metadata": {
        "id": "CqI5TgT9dRgu"
      },
      "execution_count": null,
      "outputs": []
    },
    {
      "cell_type": "code",
      "source": [
        "# Read data from URL\n",
        "\n",
        "train_df = pd.read_csv(train_url,index_col=0)\n",
        "val_df = pd.read_csv(val_url,index_col=0)\n",
        "test_df = pd.read_csv(test_url,index_col=0)\n",
        "\n",
        "print(f\"\"\"\n",
        "Train samples: {train_df.shape[0]}\n",
        "Validation samples: {val_df.shape[0]}\n",
        "Test samples: {test_df.shape[0]}\n",
        "\"\"\")"
      ],
      "metadata": {
        "id": "D0w6cvb-GaTF",
        "colab": {
          "base_uri": "https://localhost:8080/"
        },
        "outputId": "04b3b249-37d4-4c10-b3fd-ab7303ca1fa4"
      },
      "execution_count": null,
      "outputs": [
        {
          "output_type": "stream",
          "name": "stdout",
          "text": [
            "\n",
            "Train samples: 48991\n",
            "Validation samples: 16331\n",
            "Test samples: 21774\n",
            "\n"
          ]
        }
      ]
    },
    {
      "cell_type": "code",
      "source": [
        "train_df.head()"
      ],
      "metadata": {
        "id": "r9oz4LkrIYLo",
        "colab": {
          "base_uri": "https://localhost:8080/",
          "height": 206
        },
        "outputId": "95785c84-fdcb-44ca-eef5-c2e688247cd9"
      },
      "execution_count": null,
      "outputs": [
        {
          "output_type": "execute_result",
          "data": {
            "text/plain": [
              "                                               Lyric Genre\n",
              "0  Oh, girl. I can't get ready (Can't get ready f...   Pop\n",
              "1  We met on a rainy evening in the summertime. D...   Pop\n",
              "2  We carried you in our arms. On Independence Da...  Rock\n",
              "3  I know he loved you. A long time ago. I ain't ...   Pop\n",
              "4  Paralysis through analysis. Yellow moral uncle...  Rock"
            ],
            "text/html": [
              "\n",
              "  <div id=\"df-a9ceec66-2ee9-4c2a-ac4f-d388e2872191\" class=\"colab-df-container\">\n",
              "    <div>\n",
              "<style scoped>\n",
              "    .dataframe tbody tr th:only-of-type {\n",
              "        vertical-align: middle;\n",
              "    }\n",
              "\n",
              "    .dataframe tbody tr th {\n",
              "        vertical-align: top;\n",
              "    }\n",
              "\n",
              "    .dataframe thead th {\n",
              "        text-align: right;\n",
              "    }\n",
              "</style>\n",
              "<table border=\"1\" class=\"dataframe\">\n",
              "  <thead>\n",
              "    <tr style=\"text-align: right;\">\n",
              "      <th></th>\n",
              "      <th>Lyric</th>\n",
              "      <th>Genre</th>\n",
              "    </tr>\n",
              "  </thead>\n",
              "  <tbody>\n",
              "    <tr>\n",
              "      <th>0</th>\n",
              "      <td>Oh, girl. I can't get ready (Can't get ready f...</td>\n",
              "      <td>Pop</td>\n",
              "    </tr>\n",
              "    <tr>\n",
              "      <th>1</th>\n",
              "      <td>We met on a rainy evening in the summertime. D...</td>\n",
              "      <td>Pop</td>\n",
              "    </tr>\n",
              "    <tr>\n",
              "      <th>2</th>\n",
              "      <td>We carried you in our arms. On Independence Da...</td>\n",
              "      <td>Rock</td>\n",
              "    </tr>\n",
              "    <tr>\n",
              "      <th>3</th>\n",
              "      <td>I know he loved you. A long time ago. I ain't ...</td>\n",
              "      <td>Pop</td>\n",
              "    </tr>\n",
              "    <tr>\n",
              "      <th>4</th>\n",
              "      <td>Paralysis through analysis. Yellow moral uncle...</td>\n",
              "      <td>Rock</td>\n",
              "    </tr>\n",
              "  </tbody>\n",
              "</table>\n",
              "</div>\n",
              "    <div class=\"colab-df-buttons\">\n",
              "\n",
              "  <div class=\"colab-df-container\">\n",
              "    <button class=\"colab-df-convert\" onclick=\"convertToInteractive('df-a9ceec66-2ee9-4c2a-ac4f-d388e2872191')\"\n",
              "            title=\"Convert this dataframe to an interactive table.\"\n",
              "            style=\"display:none;\">\n",
              "\n",
              "  <svg xmlns=\"http://www.w3.org/2000/svg\" height=\"24px\" viewBox=\"0 -960 960 960\">\n",
              "    <path d=\"M120-120v-720h720v720H120Zm60-500h600v-160H180v160Zm220 220h160v-160H400v160Zm0 220h160v-160H400v160ZM180-400h160v-160H180v160Zm440 0h160v-160H620v160ZM180-180h160v-160H180v160Zm440 0h160v-160H620v160Z\"/>\n",
              "  </svg>\n",
              "    </button>\n",
              "\n",
              "  <style>\n",
              "    .colab-df-container {\n",
              "      display:flex;\n",
              "      gap: 12px;\n",
              "    }\n",
              "\n",
              "    .colab-df-convert {\n",
              "      background-color: #E8F0FE;\n",
              "      border: none;\n",
              "      border-radius: 50%;\n",
              "      cursor: pointer;\n",
              "      display: none;\n",
              "      fill: #1967D2;\n",
              "      height: 32px;\n",
              "      padding: 0 0 0 0;\n",
              "      width: 32px;\n",
              "    }\n",
              "\n",
              "    .colab-df-convert:hover {\n",
              "      background-color: #E2EBFA;\n",
              "      box-shadow: 0px 1px 2px rgba(60, 64, 67, 0.3), 0px 1px 3px 1px rgba(60, 64, 67, 0.15);\n",
              "      fill: #174EA6;\n",
              "    }\n",
              "\n",
              "    .colab-df-buttons div {\n",
              "      margin-bottom: 4px;\n",
              "    }\n",
              "\n",
              "    [theme=dark] .colab-df-convert {\n",
              "      background-color: #3B4455;\n",
              "      fill: #D2E3FC;\n",
              "    }\n",
              "\n",
              "    [theme=dark] .colab-df-convert:hover {\n",
              "      background-color: #434B5C;\n",
              "      box-shadow: 0px 1px 3px 1px rgba(0, 0, 0, 0.15);\n",
              "      filter: drop-shadow(0px 1px 2px rgba(0, 0, 0, 0.3));\n",
              "      fill: #FFFFFF;\n",
              "    }\n",
              "  </style>\n",
              "\n",
              "    <script>\n",
              "      const buttonEl =\n",
              "        document.querySelector('#df-a9ceec66-2ee9-4c2a-ac4f-d388e2872191 button.colab-df-convert');\n",
              "      buttonEl.style.display =\n",
              "        google.colab.kernel.accessAllowed ? 'block' : 'none';\n",
              "\n",
              "      async function convertToInteractive(key) {\n",
              "        const element = document.querySelector('#df-a9ceec66-2ee9-4c2a-ac4f-d388e2872191');\n",
              "        const dataTable =\n",
              "          await google.colab.kernel.invokeFunction('convertToInteractive',\n",
              "                                                    [key], {});\n",
              "        if (!dataTable) return;\n",
              "\n",
              "        const docLinkHtml = 'Like what you see? Visit the ' +\n",
              "          '<a target=\"_blank\" href=https://colab.research.google.com/notebooks/data_table.ipynb>data table notebook</a>'\n",
              "          + ' to learn more about interactive tables.';\n",
              "        element.innerHTML = '';\n",
              "        dataTable['output_type'] = 'display_data';\n",
              "        await google.colab.output.renderOutput(dataTable, element);\n",
              "        const docLink = document.createElement('div');\n",
              "        docLink.innerHTML = docLinkHtml;\n",
              "        element.appendChild(docLink);\n",
              "      }\n",
              "    </script>\n",
              "  </div>\n",
              "\n",
              "\n",
              "<div id=\"df-f316c55d-7490-48fa-9e9d-3ea59afcc560\">\n",
              "  <button class=\"colab-df-quickchart\" onclick=\"quickchart('df-f316c55d-7490-48fa-9e9d-3ea59afcc560')\"\n",
              "            title=\"Suggest charts\"\n",
              "            style=\"display:none;\">\n",
              "\n",
              "<svg xmlns=\"http://www.w3.org/2000/svg\" height=\"24px\"viewBox=\"0 0 24 24\"\n",
              "     width=\"24px\">\n",
              "    <g>\n",
              "        <path d=\"M19 3H5c-1.1 0-2 .9-2 2v14c0 1.1.9 2 2 2h14c1.1 0 2-.9 2-2V5c0-1.1-.9-2-2-2zM9 17H7v-7h2v7zm4 0h-2V7h2v10zm4 0h-2v-4h2v4z\"/>\n",
              "    </g>\n",
              "</svg>\n",
              "  </button>\n",
              "\n",
              "<style>\n",
              "  .colab-df-quickchart {\n",
              "      --bg-color: #E8F0FE;\n",
              "      --fill-color: #1967D2;\n",
              "      --hover-bg-color: #E2EBFA;\n",
              "      --hover-fill-color: #174EA6;\n",
              "      --disabled-fill-color: #AAA;\n",
              "      --disabled-bg-color: #DDD;\n",
              "  }\n",
              "\n",
              "  [theme=dark] .colab-df-quickchart {\n",
              "      --bg-color: #3B4455;\n",
              "      --fill-color: #D2E3FC;\n",
              "      --hover-bg-color: #434B5C;\n",
              "      --hover-fill-color: #FFFFFF;\n",
              "      --disabled-bg-color: #3B4455;\n",
              "      --disabled-fill-color: #666;\n",
              "  }\n",
              "\n",
              "  .colab-df-quickchart {\n",
              "    background-color: var(--bg-color);\n",
              "    border: none;\n",
              "    border-radius: 50%;\n",
              "    cursor: pointer;\n",
              "    display: none;\n",
              "    fill: var(--fill-color);\n",
              "    height: 32px;\n",
              "    padding: 0;\n",
              "    width: 32px;\n",
              "  }\n",
              "\n",
              "  .colab-df-quickchart:hover {\n",
              "    background-color: var(--hover-bg-color);\n",
              "    box-shadow: 0 1px 2px rgba(60, 64, 67, 0.3), 0 1px 3px 1px rgba(60, 64, 67, 0.15);\n",
              "    fill: var(--button-hover-fill-color);\n",
              "  }\n",
              "\n",
              "  .colab-df-quickchart-complete:disabled,\n",
              "  .colab-df-quickchart-complete:disabled:hover {\n",
              "    background-color: var(--disabled-bg-color);\n",
              "    fill: var(--disabled-fill-color);\n",
              "    box-shadow: none;\n",
              "  }\n",
              "\n",
              "  .colab-df-spinner {\n",
              "    border: 2px solid var(--fill-color);\n",
              "    border-color: transparent;\n",
              "    border-bottom-color: var(--fill-color);\n",
              "    animation:\n",
              "      spin 1s steps(1) infinite;\n",
              "  }\n",
              "\n",
              "  @keyframes spin {\n",
              "    0% {\n",
              "      border-color: transparent;\n",
              "      border-bottom-color: var(--fill-color);\n",
              "      border-left-color: var(--fill-color);\n",
              "    }\n",
              "    20% {\n",
              "      border-color: transparent;\n",
              "      border-left-color: var(--fill-color);\n",
              "      border-top-color: var(--fill-color);\n",
              "    }\n",
              "    30% {\n",
              "      border-color: transparent;\n",
              "      border-left-color: var(--fill-color);\n",
              "      border-top-color: var(--fill-color);\n",
              "      border-right-color: var(--fill-color);\n",
              "    }\n",
              "    40% {\n",
              "      border-color: transparent;\n",
              "      border-right-color: var(--fill-color);\n",
              "      border-top-color: var(--fill-color);\n",
              "    }\n",
              "    60% {\n",
              "      border-color: transparent;\n",
              "      border-right-color: var(--fill-color);\n",
              "    }\n",
              "    80% {\n",
              "      border-color: transparent;\n",
              "      border-right-color: var(--fill-color);\n",
              "      border-bottom-color: var(--fill-color);\n",
              "    }\n",
              "    90% {\n",
              "      border-color: transparent;\n",
              "      border-bottom-color: var(--fill-color);\n",
              "    }\n",
              "  }\n",
              "</style>\n",
              "\n",
              "  <script>\n",
              "    async function quickchart(key) {\n",
              "      const quickchartButtonEl =\n",
              "        document.querySelector('#' + key + ' button');\n",
              "      quickchartButtonEl.disabled = true;  // To prevent multiple clicks.\n",
              "      quickchartButtonEl.classList.add('colab-df-spinner');\n",
              "      try {\n",
              "        const charts = await google.colab.kernel.invokeFunction(\n",
              "            'suggestCharts', [key], {});\n",
              "      } catch (error) {\n",
              "        console.error('Error during call to suggestCharts:', error);\n",
              "      }\n",
              "      quickchartButtonEl.classList.remove('colab-df-spinner');\n",
              "      quickchartButtonEl.classList.add('colab-df-quickchart-complete');\n",
              "    }\n",
              "    (() => {\n",
              "      let quickchartButtonEl =\n",
              "        document.querySelector('#df-f316c55d-7490-48fa-9e9d-3ea59afcc560 button');\n",
              "      quickchartButtonEl.style.display =\n",
              "        google.colab.kernel.accessAllowed ? 'block' : 'none';\n",
              "    })();\n",
              "  </script>\n",
              "</div>\n",
              "\n",
              "    </div>\n",
              "  </div>\n"
            ],
            "application/vnd.google.colaboratory.intrinsic+json": {
              "type": "dataframe",
              "variable_name": "train_df",
              "summary": "{\n  \"name\": \"train_df\",\n  \"rows\": 48991,\n  \"fields\": [\n    {\n      \"column\": \"Lyric\",\n      \"properties\": {\n        \"dtype\": \"string\",\n        \"num_unique_values\": 48752,\n        \"samples\": [\n          \"Change your heart. Look around you. Change your heart. It will astound you. I need your lovin'. Like the sunshine. Everybody's gotta learn sometime. Everybody's gotta learn sometime. Everybody's gotta learn sometime. Change your heart. Look around you. Change your heart. Will astound you. I need your lovin'. Like the sunshine. Everybody's gotta learn sometime. Everybody's gotta learn sometime. Everybody's gotta learn sometime. I need your lovin'. Like the sunshine. Everybody's gotta learn sometime. Everybody's gotta learn sometime. Everybody's gotta learn sometime. Everybody's gotta learn sometime. Everybody's gotta learn sometime. Everybody's gotta learn sometime. Everybody's gotta learn sometime. Everybody's gotta learn sometime\",\n          \"Light comes in, I watch you wake. Wanting you so much my heart could break. To touch your skin, to feel your hair. I'd follow you anywhere. Light goes out, I watch you sleep. Never imagined love so deep. I close my eyes to breathe the air. I'd follow you anywhere. And the waves that wash over me, wash over you. Follow me, I'll follow you. Through your dreams to secret places. Here's my hand, just take it. Do as I do, I'll follow you. Nobody knows who made the stars. Baby the whole world is ours. From Liverpool to Leicester Square. I'd follow you anywhere. The angels that watch over me, watch over you. Follow me, I'll follow you. Through your dreams to secret places. Where nobody can trace us. We'll make it through, I'll follow you. And the waves that wash over me, wash over you. Follow me, I'll follow you. When nobody can find you. I'll be right behind you. You'll make it through (I'll follow you). Follow me (follow me), I'll follow you. Through your dreams to secret places. Here's my hand, just take it. Do as I do, I'll follow you\",\n          \"I visualize the first time we're together. I close my eyes and for a moment all I see is you. Turn off the lights, don't look outside, the world's gone crazy. But it's perfect here with you. Chorus:. I\\u2019ve never felt so alive. Like I feel right now in this moment. I\\u2019ve never felt so alive. Like I feel right here standing next to you. I\\u2019ve never felt so alive. I know what you're thinking. You think that we're different. In my reputation, in the stories. Well, at least you know it won't get boring. Like all the ones who came before me. Just let go as I crash into you. Chorus (1x). Heaven's heard me calling. The stars involve a light. Your touch is so electric. I'm looking in your eyes. I\\u2019ve never felt so alive. It's so surreal, the way you feel. How fast my heart is beating. And we're breathing together now. As we fall down, above the clouds. I swear I\\u2019ll never let you down. Chorus (1x). Heaven's heard me calling. The stars involve a light. Your touch is so electric. I'm looking in your eyes. I\\u2019ve never felt so alive (3x)\"\n        ],\n        \"semantic_type\": \"\",\n        \"description\": \"\"\n      }\n    },\n    {\n      \"column\": \"Genre\",\n      \"properties\": {\n        \"dtype\": \"category\",\n        \"num_unique_values\": 3,\n        \"samples\": [\n          \"Pop\",\n          \"Rock\",\n          \"Hip Hop\"\n        ],\n        \"semantic_type\": \"\",\n        \"description\": \"\"\n      }\n    }\n  ]\n}"
            }
          },
          "metadata": {},
          "execution_count": 15
        }
      ]
    },
    {
      "cell_type": "code",
      "source": [
        "train_df.tail()"
      ],
      "metadata": {
        "id": "rctoMtW38Pg0",
        "colab": {
          "base_uri": "https://localhost:8080/",
          "height": 206
        },
        "outputId": "8892d3f3-18d5-4291-9871-fdebc6e99284"
      },
      "execution_count": null,
      "outputs": [
        {
          "output_type": "execute_result",
          "data": {
            "text/plain": [
              "                                                   Lyric    Genre\n",
              "48986  [Hook]. Beamer, Benz, Or Bentley. Beamer, Benz...  Hip Hop\n",
              "48987  You never listen to me. I know I'm better off ...      Pop\n",
              "48988  Things have come to a pretty pass. Our romance...      Pop\n",
              "48989  Little baby, on my shoulder. I could fall into...      Pop\n",
              "48990  Music : Rudolf Schenker. Lyrics: Klaus Meine. ...     Rock"
            ],
            "text/html": [
              "\n",
              "  <div id=\"df-065af434-46ee-4e21-bad3-c3d313a6ea5a\" class=\"colab-df-container\">\n",
              "    <div>\n",
              "<style scoped>\n",
              "    .dataframe tbody tr th:only-of-type {\n",
              "        vertical-align: middle;\n",
              "    }\n",
              "\n",
              "    .dataframe tbody tr th {\n",
              "        vertical-align: top;\n",
              "    }\n",
              "\n",
              "    .dataframe thead th {\n",
              "        text-align: right;\n",
              "    }\n",
              "</style>\n",
              "<table border=\"1\" class=\"dataframe\">\n",
              "  <thead>\n",
              "    <tr style=\"text-align: right;\">\n",
              "      <th></th>\n",
              "      <th>Lyric</th>\n",
              "      <th>Genre</th>\n",
              "    </tr>\n",
              "  </thead>\n",
              "  <tbody>\n",
              "    <tr>\n",
              "      <th>48986</th>\n",
              "      <td>[Hook]. Beamer, Benz, Or Bentley. Beamer, Benz...</td>\n",
              "      <td>Hip Hop</td>\n",
              "    </tr>\n",
              "    <tr>\n",
              "      <th>48987</th>\n",
              "      <td>You never listen to me. I know I'm better off ...</td>\n",
              "      <td>Pop</td>\n",
              "    </tr>\n",
              "    <tr>\n",
              "      <th>48988</th>\n",
              "      <td>Things have come to a pretty pass. Our romance...</td>\n",
              "      <td>Pop</td>\n",
              "    </tr>\n",
              "    <tr>\n",
              "      <th>48989</th>\n",
              "      <td>Little baby, on my shoulder. I could fall into...</td>\n",
              "      <td>Pop</td>\n",
              "    </tr>\n",
              "    <tr>\n",
              "      <th>48990</th>\n",
              "      <td>Music : Rudolf Schenker. Lyrics: Klaus Meine. ...</td>\n",
              "      <td>Rock</td>\n",
              "    </tr>\n",
              "  </tbody>\n",
              "</table>\n",
              "</div>\n",
              "    <div class=\"colab-df-buttons\">\n",
              "\n",
              "  <div class=\"colab-df-container\">\n",
              "    <button class=\"colab-df-convert\" onclick=\"convertToInteractive('df-065af434-46ee-4e21-bad3-c3d313a6ea5a')\"\n",
              "            title=\"Convert this dataframe to an interactive table.\"\n",
              "            style=\"display:none;\">\n",
              "\n",
              "  <svg xmlns=\"http://www.w3.org/2000/svg\" height=\"24px\" viewBox=\"0 -960 960 960\">\n",
              "    <path d=\"M120-120v-720h720v720H120Zm60-500h600v-160H180v160Zm220 220h160v-160H400v160Zm0 220h160v-160H400v160ZM180-400h160v-160H180v160Zm440 0h160v-160H620v160ZM180-180h160v-160H180v160Zm440 0h160v-160H620v160Z\"/>\n",
              "  </svg>\n",
              "    </button>\n",
              "\n",
              "  <style>\n",
              "    .colab-df-container {\n",
              "      display:flex;\n",
              "      gap: 12px;\n",
              "    }\n",
              "\n",
              "    .colab-df-convert {\n",
              "      background-color: #E8F0FE;\n",
              "      border: none;\n",
              "      border-radius: 50%;\n",
              "      cursor: pointer;\n",
              "      display: none;\n",
              "      fill: #1967D2;\n",
              "      height: 32px;\n",
              "      padding: 0 0 0 0;\n",
              "      width: 32px;\n",
              "    }\n",
              "\n",
              "    .colab-df-convert:hover {\n",
              "      background-color: #E2EBFA;\n",
              "      box-shadow: 0px 1px 2px rgba(60, 64, 67, 0.3), 0px 1px 3px 1px rgba(60, 64, 67, 0.15);\n",
              "      fill: #174EA6;\n",
              "    }\n",
              "\n",
              "    .colab-df-buttons div {\n",
              "      margin-bottom: 4px;\n",
              "    }\n",
              "\n",
              "    [theme=dark] .colab-df-convert {\n",
              "      background-color: #3B4455;\n",
              "      fill: #D2E3FC;\n",
              "    }\n",
              "\n",
              "    [theme=dark] .colab-df-convert:hover {\n",
              "      background-color: #434B5C;\n",
              "      box-shadow: 0px 1px 3px 1px rgba(0, 0, 0, 0.15);\n",
              "      filter: drop-shadow(0px 1px 2px rgba(0, 0, 0, 0.3));\n",
              "      fill: #FFFFFF;\n",
              "    }\n",
              "  </style>\n",
              "\n",
              "    <script>\n",
              "      const buttonEl =\n",
              "        document.querySelector('#df-065af434-46ee-4e21-bad3-c3d313a6ea5a button.colab-df-convert');\n",
              "      buttonEl.style.display =\n",
              "        google.colab.kernel.accessAllowed ? 'block' : 'none';\n",
              "\n",
              "      async function convertToInteractive(key) {\n",
              "        const element = document.querySelector('#df-065af434-46ee-4e21-bad3-c3d313a6ea5a');\n",
              "        const dataTable =\n",
              "          await google.colab.kernel.invokeFunction('convertToInteractive',\n",
              "                                                    [key], {});\n",
              "        if (!dataTable) return;\n",
              "\n",
              "        const docLinkHtml = 'Like what you see? Visit the ' +\n",
              "          '<a target=\"_blank\" href=https://colab.research.google.com/notebooks/data_table.ipynb>data table notebook</a>'\n",
              "          + ' to learn more about interactive tables.';\n",
              "        element.innerHTML = '';\n",
              "        dataTable['output_type'] = 'display_data';\n",
              "        await google.colab.output.renderOutput(dataTable, element);\n",
              "        const docLink = document.createElement('div');\n",
              "        docLink.innerHTML = docLinkHtml;\n",
              "        element.appendChild(docLink);\n",
              "      }\n",
              "    </script>\n",
              "  </div>\n",
              "\n",
              "\n",
              "<div id=\"df-4fcb840b-4fe5-43a9-90e7-193038e6f1ba\">\n",
              "  <button class=\"colab-df-quickchart\" onclick=\"quickchart('df-4fcb840b-4fe5-43a9-90e7-193038e6f1ba')\"\n",
              "            title=\"Suggest charts\"\n",
              "            style=\"display:none;\">\n",
              "\n",
              "<svg xmlns=\"http://www.w3.org/2000/svg\" height=\"24px\"viewBox=\"0 0 24 24\"\n",
              "     width=\"24px\">\n",
              "    <g>\n",
              "        <path d=\"M19 3H5c-1.1 0-2 .9-2 2v14c0 1.1.9 2 2 2h14c1.1 0 2-.9 2-2V5c0-1.1-.9-2-2-2zM9 17H7v-7h2v7zm4 0h-2V7h2v10zm4 0h-2v-4h2v4z\"/>\n",
              "    </g>\n",
              "</svg>\n",
              "  </button>\n",
              "\n",
              "<style>\n",
              "  .colab-df-quickchart {\n",
              "      --bg-color: #E8F0FE;\n",
              "      --fill-color: #1967D2;\n",
              "      --hover-bg-color: #E2EBFA;\n",
              "      --hover-fill-color: #174EA6;\n",
              "      --disabled-fill-color: #AAA;\n",
              "      --disabled-bg-color: #DDD;\n",
              "  }\n",
              "\n",
              "  [theme=dark] .colab-df-quickchart {\n",
              "      --bg-color: #3B4455;\n",
              "      --fill-color: #D2E3FC;\n",
              "      --hover-bg-color: #434B5C;\n",
              "      --hover-fill-color: #FFFFFF;\n",
              "      --disabled-bg-color: #3B4455;\n",
              "      --disabled-fill-color: #666;\n",
              "  }\n",
              "\n",
              "  .colab-df-quickchart {\n",
              "    background-color: var(--bg-color);\n",
              "    border: none;\n",
              "    border-radius: 50%;\n",
              "    cursor: pointer;\n",
              "    display: none;\n",
              "    fill: var(--fill-color);\n",
              "    height: 32px;\n",
              "    padding: 0;\n",
              "    width: 32px;\n",
              "  }\n",
              "\n",
              "  .colab-df-quickchart:hover {\n",
              "    background-color: var(--hover-bg-color);\n",
              "    box-shadow: 0 1px 2px rgba(60, 64, 67, 0.3), 0 1px 3px 1px rgba(60, 64, 67, 0.15);\n",
              "    fill: var(--button-hover-fill-color);\n",
              "  }\n",
              "\n",
              "  .colab-df-quickchart-complete:disabled,\n",
              "  .colab-df-quickchart-complete:disabled:hover {\n",
              "    background-color: var(--disabled-bg-color);\n",
              "    fill: var(--disabled-fill-color);\n",
              "    box-shadow: none;\n",
              "  }\n",
              "\n",
              "  .colab-df-spinner {\n",
              "    border: 2px solid var(--fill-color);\n",
              "    border-color: transparent;\n",
              "    border-bottom-color: var(--fill-color);\n",
              "    animation:\n",
              "      spin 1s steps(1) infinite;\n",
              "  }\n",
              "\n",
              "  @keyframes spin {\n",
              "    0% {\n",
              "      border-color: transparent;\n",
              "      border-bottom-color: var(--fill-color);\n",
              "      border-left-color: var(--fill-color);\n",
              "    }\n",
              "    20% {\n",
              "      border-color: transparent;\n",
              "      border-left-color: var(--fill-color);\n",
              "      border-top-color: var(--fill-color);\n",
              "    }\n",
              "    30% {\n",
              "      border-color: transparent;\n",
              "      border-left-color: var(--fill-color);\n",
              "      border-top-color: var(--fill-color);\n",
              "      border-right-color: var(--fill-color);\n",
              "    }\n",
              "    40% {\n",
              "      border-color: transparent;\n",
              "      border-right-color: var(--fill-color);\n",
              "      border-top-color: var(--fill-color);\n",
              "    }\n",
              "    60% {\n",
              "      border-color: transparent;\n",
              "      border-right-color: var(--fill-color);\n",
              "    }\n",
              "    80% {\n",
              "      border-color: transparent;\n",
              "      border-right-color: var(--fill-color);\n",
              "      border-bottom-color: var(--fill-color);\n",
              "    }\n",
              "    90% {\n",
              "      border-color: transparent;\n",
              "      border-bottom-color: var(--fill-color);\n",
              "    }\n",
              "  }\n",
              "</style>\n",
              "\n",
              "  <script>\n",
              "    async function quickchart(key) {\n",
              "      const quickchartButtonEl =\n",
              "        document.querySelector('#' + key + ' button');\n",
              "      quickchartButtonEl.disabled = true;  // To prevent multiple clicks.\n",
              "      quickchartButtonEl.classList.add('colab-df-spinner');\n",
              "      try {\n",
              "        const charts = await google.colab.kernel.invokeFunction(\n",
              "            'suggestCharts', [key], {});\n",
              "      } catch (error) {\n",
              "        console.error('Error during call to suggestCharts:', error);\n",
              "      }\n",
              "      quickchartButtonEl.classList.remove('colab-df-spinner');\n",
              "      quickchartButtonEl.classList.add('colab-df-quickchart-complete');\n",
              "    }\n",
              "    (() => {\n",
              "      let quickchartButtonEl =\n",
              "        document.querySelector('#df-4fcb840b-4fe5-43a9-90e7-193038e6f1ba button');\n",
              "      quickchartButtonEl.style.display =\n",
              "        google.colab.kernel.accessAllowed ? 'block' : 'none';\n",
              "    })();\n",
              "  </script>\n",
              "</div>\n",
              "\n",
              "    </div>\n",
              "  </div>\n"
            ],
            "application/vnd.google.colaboratory.intrinsic+json": {
              "type": "dataframe",
              "summary": "{\n  \"name\": \"train_df\",\n  \"rows\": 5,\n  \"fields\": [\n    {\n      \"column\": \"Lyric\",\n      \"properties\": {\n        \"dtype\": \"string\",\n        \"num_unique_values\": 5,\n        \"samples\": [\n          \"You never listen to me. I know I'm better off alone. Everybody knows it's true. Yeah, we all see through you. You know it won't be hard to do. Throw away my stuff from you. (Chorus). And I'll wait for her, to come. She won't break my heart. Cause' I know, she'll be. From Australia. She's so, beautiful. She's my dream girl. lalala, lalala, lalala. she's my dream girl. You were the one I thought I. needed, I'm better off alone. Everybody knows it's true. They know all your secrets. the only thing you knew was true. has just walked out of your life. How does it feel?. (Chorus). So I'll wait for her, to come. She won't break my heart. 'Cause I know, she'll be. From Australia. She's so, beautiful. She's my dream girl. lalala, lalala. she's my dream girl. She will be there. to love and to care. I know there's no need to worry. the girl of my dreams. the one that will be. there to hold me when I'm down. 'Till she is around. (Chorus). I'll just wait for her, to come. She won't break my heart. 'Cause I know, she'll be. From Australia. She's so, beautiful. She's my dream girl. lalala, lalala. she's my dream girl. So I'll just wait for her, to come. She won't break my heart. 'Cause I know, she'll be. From Australia. She's so, beautiful. She's my dream girl. lalala, lalala. she's my dream girl. (dream girl)\",\n          \"Music : Rudolf Schenker. Lyrics: Klaus Meine. She likes it hot, she likes it humid. She likes my cake, and she's not stupid. She likes my sugar, she likes my bread. I'm ready to attack. She comes at night, when I'm asleep. Without a sound, just like a thief. She comes to crawl, under my bed. I'm ready to attack. Priscilla oh Priscilla. You last resistant chiller. Priscilla oh Priscilla. Tonight I'm going to kill ya. She lives in my kitchen. Down in the shade. She likes leftovers. And throwaways. I'm on a diet. And she is fat. I'm ready to attack. Priscilla oh Priscilla. You last resistant chiller. Priscilla oh Priscilla. Tonight I'm going to kill ya. I can't do it I can't do it at all. She turns a man into killer. This cockroach named Priscilla. This cockroach named Priscilla. You're gonna be here. You're gonna be there. You're gonna be everywhere. I'm coming after you. I'm coming after you. You're gonna be now. You're gonna be then. You're gonna be out and in. I'm coming after you. I'm coming after you. You're gonna be saint. You're gonna be sin. You're gonna lose and win. I'm coming after you. I'm coming after you. Priscilla oh Priscilla.\",\n          \"Things have come to a pretty pass. Our romance is growing flat. For you like this and the other. While I go for this and that. Goodness knows what the end will be. Oh, I don't know where I'm at. It looks as if we two will never be one. Something must be done. (Chorus). You say eether and I say eyether. You say neether and I say nyther. Eether, eyether, neether, nyther. Let's call the whole thing off!. You like potato and I like potahto. You like tomato and I like tomahto. Potato, potahto, tomato, tomahto!. Let's call the whole thing off!. But oh! If we call the whole thing off. Then we must part. And oh! If we ever part. Then that might break my heart!. So, if you like pajamas and I like pajahmas. I'll wear pajamas and give up pajahmas. For we know we need each other. So we better call the calling off off. Let's call the whole thing on!. You say laughter and I say lawfter. You say after and I say awfter. Laughter, lawfter, after, awfter. Let's call the whole thing off!. You like vanilla and I like vanella. You, sa's'parilla and I sa's'parella. Vanilla, vanella, Choc'late, strawb'ry!. Let's call the whole thing off!. But oh! If we call the whole thing off. Then we must part. And oh! If we ever part. Then that might break my heart!. So, if you go for oysters and I go for ersters. I'll order oysters and cancel the ersters. For we know we need each other. So we better call the calling off off!. Let's call the whole thing on\"\n        ],\n        \"semantic_type\": \"\",\n        \"description\": \"\"\n      }\n    },\n    {\n      \"column\": \"Genre\",\n      \"properties\": {\n        \"dtype\": \"string\",\n        \"num_unique_values\": 3,\n        \"samples\": [\n          \"Hip Hop\",\n          \"Pop\",\n          \"Rock\"\n        ],\n        \"semantic_type\": \"\",\n        \"description\": \"\"\n      }\n    }\n  ]\n}"
            }
          },
          "metadata": {},
          "execution_count": 16
        }
      ]
    },
    {
      "cell_type": "code",
      "metadata": {
        "colab": {
          "base_uri": "https://localhost:8080/",
          "height": 209
        },
        "id": "POmaCGQvD2HZ",
        "outputId": "d6ac0d6f-8247-4820-c20b-d3aa457521fd"
      },
      "source": [
        "# Let's check the proportion of each label in the training set\n",
        "train_df['Genre'].value_counts() / train_df.shape[0]"
      ],
      "execution_count": null,
      "outputs": [
        {
          "output_type": "execute_result",
          "data": {
            "text/plain": [
              "Genre\n",
              "Rock       0.549448\n",
              "Pop        0.295136\n",
              "Hip Hop    0.155416\n",
              "Name: count, dtype: float64"
            ],
            "text/html": [
              "<div>\n",
              "<style scoped>\n",
              "    .dataframe tbody tr th:only-of-type {\n",
              "        vertical-align: middle;\n",
              "    }\n",
              "\n",
              "    .dataframe tbody tr th {\n",
              "        vertical-align: top;\n",
              "    }\n",
              "\n",
              "    .dataframe thead th {\n",
              "        text-align: right;\n",
              "    }\n",
              "</style>\n",
              "<table border=\"1\" class=\"dataframe\">\n",
              "  <thead>\n",
              "    <tr style=\"text-align: right;\">\n",
              "      <th></th>\n",
              "      <th>count</th>\n",
              "    </tr>\n",
              "    <tr>\n",
              "      <th>Genre</th>\n",
              "      <th></th>\n",
              "    </tr>\n",
              "  </thead>\n",
              "  <tbody>\n",
              "    <tr>\n",
              "      <th>Rock</th>\n",
              "      <td>0.549448</td>\n",
              "    </tr>\n",
              "    <tr>\n",
              "      <th>Pop</th>\n",
              "      <td>0.295136</td>\n",
              "    </tr>\n",
              "    <tr>\n",
              "      <th>Hip Hop</th>\n",
              "      <td>0.155416</td>\n",
              "    </tr>\n",
              "  </tbody>\n",
              "</table>\n",
              "</div><br><label><b>dtype:</b> float64</label>"
            ]
          },
          "metadata": {},
          "execution_count": 17
        }
      ]
    },
    {
      "cell_type": "markdown",
      "metadata": {
        "id": "xvZqCOLKE6Hi"
      },
      "source": [
        "One thing we need to do before is to convert the `Genre` column into a dummy variable (one-hot encoding). This is because our task will try to predict to which of the 3 categories the song belongs to, and we have to encode this in a way that can be understood by the Neural Network."
      ]
    },
    {
      "cell_type": "code",
      "source": [
        "# Let's turn the target into a dummy vector\n",
        "\n",
        "y_train = pd.get_dummies(train_df['Genre'],dtype=\"int\").to_numpy()\n",
        "y_val = pd.get_dummies(val_df['Genre'], dtype=\"int\").to_numpy()\n",
        "y_test = pd.get_dummies(test_df['Genre'], dtype=\"int\").to_numpy()"
      ],
      "metadata": {
        "id": "sia5LebDeuDM"
      },
      "execution_count": null,
      "outputs": []
    },
    {
      "cell_type": "code",
      "source": [
        "y_train"
      ],
      "metadata": {
        "colab": {
          "base_uri": "https://localhost:8080/"
        },
        "id": "kxKmeb4P8uI4",
        "outputId": "ac81bd62-a5b5-40fa-c446-1592ad57869d"
      },
      "execution_count": null,
      "outputs": [
        {
          "output_type": "execute_result",
          "data": {
            "text/plain": [
              "array([[0, 1, 0],\n",
              "       [0, 1, 0],\n",
              "       [0, 0, 1],\n",
              "       ...,\n",
              "       [0, 1, 0],\n",
              "       [0, 1, 0],\n",
              "       [0, 0, 1]])"
            ]
          },
          "metadata": {},
          "execution_count": 19
        }
      ]
    },
    {
      "cell_type": "markdown",
      "metadata": {
        "id": "aEx08EBBtO-T"
      },
      "source": [
        "Let us build now a model that distinguishes the genre from the lyric!"
      ]
    },
    {
      "cell_type": "markdown",
      "source": [
        "## Baseline Model (Bag of Words)\n"
      ],
      "metadata": {
        "id": "FIjJzeDHRre_"
      }
    },
    {
      "cell_type": "markdown",
      "metadata": {
        "id": "xvX_ZLeqnw0F"
      },
      "source": [
        "\n",
        "\n",
        "We will begin by building the simplest model we could come up with:\n",
        "- We will tokenize at a word level, and each token will be exactly one word (unigram)\n",
        "- We will use the one-hot encoding that converts each token into a binary vector indicating the presence of the token. Note that when we tokenize at a word level and use a one-hot encoding to indicate the presence (or as we will see later, the count of the word), the model is called **bag of words**.\n",
        "- `max_tokens` defines the size of the vocabulary the layer is allowed to construct. If the number of tokens in the `adapt` dataset exceeds this number, the layer will choose the `max_tokens` most frequent tokens and ignore the rest."
      ]
    },
    {
      "cell_type": "code",
      "metadata": {
        "id": "DLxsgJA3NClv"
      },
      "source": [
        "# First, we set up our Text Vectorization layer using multi-hot encoding\n",
        "\n",
        "max_tokens = 5000\n",
        "text_vectorization = keras.layers.TextVectorization(\n",
        "    max_tokens=max_tokens,\n",
        "    output_mode=\"multi_hot\")\n"
      ],
      "execution_count": null,
      "outputs": []
    },
    {
      "cell_type": "markdown",
      "source": [
        "Now let's run our STIE process on the training corpus."
      ],
      "metadata": {
        "id": "YAfZ1ctKdO6w"
      }
    },
    {
      "cell_type": "code",
      "source": [
        "# The vocabulary that will be indexed is given by the text corpus on our train dataset\n",
        "text_vectorization.adapt(train_df['Lyric'])"
      ],
      "metadata": {
        "id": "D-ikQfQAdIBP"
      },
      "execution_count": null,
      "outputs": []
    },
    {
      "cell_type": "markdown",
      "source": [
        "Let's look at the 20 most and 20 least common words in our vectorization."
      ],
      "metadata": {
        "id": "F3RLswHx-q-u"
      }
    },
    {
      "cell_type": "code",
      "source": [
        "text_vectorization.get_vocabulary()[:20]"
      ],
      "metadata": {
        "colab": {
          "base_uri": "https://localhost:8080/"
        },
        "id": "UU3TDCJWpCHZ",
        "outputId": "aabb6906-08e6-4d48-b1ca-f453cb6d8661"
      },
      "execution_count": null,
      "outputs": [
        {
          "output_type": "execute_result",
          "data": {
            "text/plain": [
              "['[UNK]',\n",
              " 'the',\n",
              " 'you',\n",
              " 'i',\n",
              " 'to',\n",
              " 'and',\n",
              " 'a',\n",
              " 'me',\n",
              " 'it',\n",
              " 'my',\n",
              " 'in',\n",
              " 'im',\n",
              " 'on',\n",
              " 'your',\n",
              " 'that',\n",
              " 'of',\n",
              " 'all',\n",
              " 'be',\n",
              " 'is',\n",
              " 'we']"
            ]
          },
          "metadata": {},
          "execution_count": 22
        }
      ]
    },
    {
      "cell_type": "code",
      "source": [
        "text_vectorization.get_vocabulary()[-20:]"
      ],
      "metadata": {
        "colab": {
          "base_uri": "https://localhost:8080/"
        },
        "id": "QKJtb1p796ui",
        "outputId": "98553c44-fead-40c9-8360-4383d806bfdd"
      },
      "execution_count": null,
      "outputs": [
        {
          "output_type": "execute_result",
          "data": {
            "text/plain": [
              "['eden',\n",
              " 'dagger',\n",
              " 'curve',\n",
              " 'cheddar',\n",
              " 'brew',\n",
              " 'appears',\n",
              " 'vacant',\n",
              " 'universal',\n",
              " 'unholy',\n",
              " 'terrified',\n",
              " 'stickin',\n",
              " 'rumble',\n",
              " 'rug',\n",
              " 'pam',\n",
              " 'os',\n",
              " 'ooohh',\n",
              " 'motto',\n",
              " 'marshall',\n",
              " 'loyalty',\n",
              " 'legacy']"
            ]
          },
          "metadata": {},
          "execution_count": 23
        }
      ]
    },
    {
      "cell_type": "code",
      "source": [
        "# We vectorize our input\n",
        "X_train = text_vectorization(train_df['Lyric'])\n",
        "X_val = text_vectorization(val_df['Lyric'])\n",
        "X_test = text_vectorization(test_df['Lyric'])"
      ],
      "metadata": {
        "id": "YIokUj27ARXL"
      },
      "execution_count": null,
      "outputs": []
    },
    {
      "cell_type": "markdown",
      "source": [
        "**Question:**\n",
        "\n",
        "Each phrase is now a vector. How long is this vector?\n",
        "\n",
        "<pre>\n",
        "\n",
        "\n",
        "\n",
        "\n",
        "\n",
        "\n",
        "\n",
        "\n",
        "</pre>\n",
        "\n",
        "Answer: It is `max_tokens` long i.e., 5000."
      ],
      "metadata": {
        "id": "1q5R93ebAqHV"
      }
    },
    {
      "cell_type": "code",
      "source": [
        "X_train"
      ],
      "metadata": {
        "colab": {
          "base_uri": "https://localhost:8080/"
        },
        "id": "qd5bp39CAT8T",
        "outputId": "18d1f05f-421d-4dea-bb58-ec004c5d4ac9"
      },
      "execution_count": null,
      "outputs": [
        {
          "output_type": "execute_result",
          "data": {
            "text/plain": [
              "<tf.Tensor: shape=(48991, 5000), dtype=int64, numpy=\n",
              "array([[1, 1, 1, ..., 0, 0, 0],\n",
              "       [1, 1, 1, ..., 0, 0, 0],\n",
              "       [1, 1, 1, ..., 0, 0, 0],\n",
              "       ...,\n",
              "       [1, 1, 1, ..., 0, 0, 0],\n",
              "       [1, 1, 1, ..., 0, 0, 0],\n",
              "       [1, 1, 1, ..., 0, 0, 0]])>"
            ]
          },
          "metadata": {},
          "execution_count": 25
        }
      ]
    },
    {
      "cell_type": "markdown",
      "source": [
        "We can think of this matrix as a sequence of row vectors. Each row vector is one of the ~49K songs in our training data, and each entry of this vector indicates the presence of the word that is indexed in that position. For example, the second entry in all the vectors corresponds to the word 'the' and a 1 indicates the presence of that word in the song."
      ],
      "metadata": {
        "id": "Ci0RhrYvAojh"
      }
    },
    {
      "cell_type": "markdown",
      "source": [
        "Let's try a simple 1-hidden layer NN with just 8 neurons in the hidden layer."
      ],
      "metadata": {
        "id": "RX_7JyTT5BxT"
      }
    },
    {
      "cell_type": "markdown",
      "source": [
        "![image.png](data:image/png;base64,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)"
      ],
      "metadata": {
        "id": "wH1qvv-WpW_U"
      }
    },
    {
      "cell_type": "code",
      "metadata": {
        "colab": {
          "base_uri": "https://localhost:8080/",
          "height": 225
        },
        "id": "HmM_1n97zW2Y",
        "outputId": "c244e898-48c4-45e3-d13b-59d9926c97d8"
      },
      "source": [
        "inputs = keras.layers.Input(shape=(max_tokens, ))\n",
        "x = keras.layers.Dense(8, activation=\"relu\")(inputs)\n",
        "outputs = keras.layers.Dense(3, activation=\"softmax\")(x)\n",
        "\n",
        "model = keras.Model(inputs, outputs)\n",
        "\n",
        "model.summary()"
      ],
      "execution_count": null,
      "outputs": [
        {
          "output_type": "display_data",
          "data": {
            "text/plain": [
              "\u001b[1mModel: \"functional\"\u001b[0m\n"
            ],
            "text/html": [
              "<pre style=\"white-space:pre;overflow-x:auto;line-height:normal;font-family:Menlo,'DejaVu Sans Mono',consolas,'Courier New',monospace\"><span style=\"font-weight: bold\">Model: \"functional\"</span>\n",
              "</pre>\n"
            ]
          },
          "metadata": {}
        },
        {
          "output_type": "display_data",
          "data": {
            "text/plain": [
              "┏━━━━━━━━━━━━━━━━━━━━━━━━━━━━━━━━━━━━━━┳━━━━━━━━━━━━━━━━━━━━━━━━━━━━━┳━━━━━━━━━━━━━━━━━┓\n",
              "┃\u001b[1m \u001b[0m\u001b[1mLayer (type)                        \u001b[0m\u001b[1m \u001b[0m┃\u001b[1m \u001b[0m\u001b[1mOutput Shape               \u001b[0m\u001b[1m \u001b[0m┃\u001b[1m \u001b[0m\u001b[1m        Param #\u001b[0m\u001b[1m \u001b[0m┃\n",
              "┡━━━━━━━━━━━━━━━━━━━━━━━━━━━━━━━━━━━━━━╇━━━━━━━━━━━━━━━━━━━━━━━━━━━━━╇━━━━━━━━━━━━━━━━━┩\n",
              "│ input_layer (\u001b[38;5;33mInputLayer\u001b[0m)             │ (\u001b[38;5;45mNone\u001b[0m, \u001b[38;5;34m5000\u001b[0m)                │               \u001b[38;5;34m0\u001b[0m │\n",
              "├──────────────────────────────────────┼─────────────────────────────┼─────────────────┤\n",
              "│ dense (\u001b[38;5;33mDense\u001b[0m)                        │ (\u001b[38;5;45mNone\u001b[0m, \u001b[38;5;34m8\u001b[0m)                   │          \u001b[38;5;34m40,008\u001b[0m │\n",
              "├──────────────────────────────────────┼─────────────────────────────┼─────────────────┤\n",
              "│ dense_1 (\u001b[38;5;33mDense\u001b[0m)                      │ (\u001b[38;5;45mNone\u001b[0m, \u001b[38;5;34m3\u001b[0m)                   │              \u001b[38;5;34m27\u001b[0m │\n",
              "└──────────────────────────────────────┴─────────────────────────────┴─────────────────┘\n"
            ],
            "text/html": [
              "<pre style=\"white-space:pre;overflow-x:auto;line-height:normal;font-family:Menlo,'DejaVu Sans Mono',consolas,'Courier New',monospace\">┏━━━━━━━━━━━━━━━━━━━━━━━━━━━━━━━━━━━━━━┳━━━━━━━━━━━━━━━━━━━━━━━━━━━━━┳━━━━━━━━━━━━━━━━━┓\n",
              "┃<span style=\"font-weight: bold\"> Layer (type)                         </span>┃<span style=\"font-weight: bold\"> Output Shape                </span>┃<span style=\"font-weight: bold\">         Param # </span>┃\n",
              "┡━━━━━━━━━━━━━━━━━━━━━━━━━━━━━━━━━━━━━━╇━━━━━━━━━━━━━━━━━━━━━━━━━━━━━╇━━━━━━━━━━━━━━━━━┩\n",
              "│ input_layer (<span style=\"color: #0087ff; text-decoration-color: #0087ff\">InputLayer</span>)             │ (<span style=\"color: #00d7ff; text-decoration-color: #00d7ff\">None</span>, <span style=\"color: #00af00; text-decoration-color: #00af00\">5000</span>)                │               <span style=\"color: #00af00; text-decoration-color: #00af00\">0</span> │\n",
              "├──────────────────────────────────────┼─────────────────────────────┼─────────────────┤\n",
              "│ dense (<span style=\"color: #0087ff; text-decoration-color: #0087ff\">Dense</span>)                        │ (<span style=\"color: #00d7ff; text-decoration-color: #00d7ff\">None</span>, <span style=\"color: #00af00; text-decoration-color: #00af00\">8</span>)                   │          <span style=\"color: #00af00; text-decoration-color: #00af00\">40,008</span> │\n",
              "├──────────────────────────────────────┼─────────────────────────────┼─────────────────┤\n",
              "│ dense_1 (<span style=\"color: #0087ff; text-decoration-color: #0087ff\">Dense</span>)                      │ (<span style=\"color: #00d7ff; text-decoration-color: #00d7ff\">None</span>, <span style=\"color: #00af00; text-decoration-color: #00af00\">3</span>)                   │              <span style=\"color: #00af00; text-decoration-color: #00af00\">27</span> │\n",
              "└──────────────────────────────────────┴─────────────────────────────┴─────────────────┘\n",
              "</pre>\n"
            ]
          },
          "metadata": {}
        },
        {
          "output_type": "display_data",
          "data": {
            "text/plain": [
              "\u001b[1m Total params: \u001b[0m\u001b[38;5;34m40,035\u001b[0m (156.39 KB)\n"
            ],
            "text/html": [
              "<pre style=\"white-space:pre;overflow-x:auto;line-height:normal;font-family:Menlo,'DejaVu Sans Mono',consolas,'Courier New',monospace\"><span style=\"font-weight: bold\"> Total params: </span><span style=\"color: #00af00; text-decoration-color: #00af00\">40,035</span> (156.39 KB)\n",
              "</pre>\n"
            ]
          },
          "metadata": {}
        },
        {
          "output_type": "display_data",
          "data": {
            "text/plain": [
              "\u001b[1m Trainable params: \u001b[0m\u001b[38;5;34m40,035\u001b[0m (156.39 KB)\n"
            ],
            "text/html": [
              "<pre style=\"white-space:pre;overflow-x:auto;line-height:normal;font-family:Menlo,'DejaVu Sans Mono',consolas,'Courier New',monospace\"><span style=\"font-weight: bold\"> Trainable params: </span><span style=\"color: #00af00; text-decoration-color: #00af00\">40,035</span> (156.39 KB)\n",
              "</pre>\n"
            ]
          },
          "metadata": {}
        },
        {
          "output_type": "display_data",
          "data": {
            "text/plain": [
              "\u001b[1m Non-trainable params: \u001b[0m\u001b[38;5;34m0\u001b[0m (0.00 B)\n"
            ],
            "text/html": [
              "<pre style=\"white-space:pre;overflow-x:auto;line-height:normal;font-family:Menlo,'DejaVu Sans Mono',consolas,'Courier New',monospace\"><span style=\"font-weight: bold\"> Non-trainable params: </span><span style=\"color: #00af00; text-decoration-color: #00af00\">0</span> (0.00 B)\n",
              "</pre>\n"
            ]
          },
          "metadata": {}
        }
      ]
    },
    {
      "cell_type": "code",
      "source": [
        "model.compile(optimizer=\"adam\",\n",
        "              loss=\"categorical_crossentropy\",\n",
        "              metrics=[\"accuracy\"])"
      ],
      "metadata": {
        "id": "xaswHL4-8RKQ"
      },
      "execution_count": null,
      "outputs": []
    },
    {
      "cell_type": "code",
      "source": [
        "# Fit model\n",
        "\n",
        "model.fit(x=X_train, y=y_train,\n",
        "          validation_data=(X_val, y_val),\n",
        "          epochs=10,\n",
        "          batch_size=32)"
      ],
      "metadata": {
        "id": "3KvpfM6o8T9d",
        "colab": {
          "base_uri": "https://localhost:8080/"
        },
        "outputId": "01e23c59-523e-48ef-83d8-26ff27ab82e5"
      },
      "execution_count": null,
      "outputs": [
        {
          "output_type": "stream",
          "name": "stdout",
          "text": [
            "Epoch 1/10\n",
            "\u001b[1m1531/1531\u001b[0m \u001b[32m━━━━━━━━━━━━━━━━━━━━\u001b[0m\u001b[37m\u001b[0m \u001b[1m8s\u001b[0m 4ms/step - accuracy: 0.7003 - loss: 0.6872 - val_accuracy: 0.7523 - val_loss: 0.5705\n",
            "Epoch 2/10\n",
            "\u001b[1m1531/1531\u001b[0m \u001b[32m━━━━━━━━━━━━━━━━━━━━\u001b[0m\u001b[37m\u001b[0m \u001b[1m5s\u001b[0m 3ms/step - accuracy: 0.7721 - loss: 0.5265 - val_accuracy: 0.7495 - val_loss: 0.5782\n",
            "Epoch 3/10\n",
            "\u001b[1m1531/1531\u001b[0m \u001b[32m━━━━━━━━━━━━━━━━━━━━\u001b[0m\u001b[37m\u001b[0m \u001b[1m5s\u001b[0m 3ms/step - accuracy: 0.7874 - loss: 0.4907 - val_accuracy: 0.7467 - val_loss: 0.5960\n",
            "Epoch 4/10\n",
            "\u001b[1m1531/1531\u001b[0m \u001b[32m━━━━━━━━━━━━━━━━━━━━\u001b[0m\u001b[37m\u001b[0m \u001b[1m5s\u001b[0m 3ms/step - accuracy: 0.7998 - loss: 0.4627 - val_accuracy: 0.7434 - val_loss: 0.6224\n",
            "Epoch 5/10\n",
            "\u001b[1m1531/1531\u001b[0m \u001b[32m━━━━━━━━━━━━━━━━━━━━\u001b[0m\u001b[37m\u001b[0m \u001b[1m5s\u001b[0m 3ms/step - accuracy: 0.8135 - loss: 0.4372 - val_accuracy: 0.7399 - val_loss: 0.6526\n",
            "Epoch 6/10\n",
            "\u001b[1m1531/1531\u001b[0m \u001b[32m━━━━━━━━━━━━━━━━━━━━\u001b[0m\u001b[37m\u001b[0m \u001b[1m5s\u001b[0m 3ms/step - accuracy: 0.8243 - loss: 0.4144 - val_accuracy: 0.7373 - val_loss: 0.6830\n",
            "Epoch 7/10\n",
            "\u001b[1m1531/1531\u001b[0m \u001b[32m━━━━━━━━━━━━━━━━━━━━\u001b[0m\u001b[37m\u001b[0m \u001b[1m5s\u001b[0m 3ms/step - accuracy: 0.8367 - loss: 0.3935 - val_accuracy: 0.7331 - val_loss: 0.7218\n",
            "Epoch 8/10\n",
            "\u001b[1m1531/1531\u001b[0m \u001b[32m━━━━━━━━━━━━━━━━━━━━\u001b[0m\u001b[37m\u001b[0m \u001b[1m5s\u001b[0m 3ms/step - accuracy: 0.8438 - loss: 0.3747 - val_accuracy: 0.7301 - val_loss: 0.7584\n",
            "Epoch 9/10\n",
            "\u001b[1m1531/1531\u001b[0m \u001b[32m━━━━━━━━━━━━━━━━━━━━\u001b[0m\u001b[37m\u001b[0m \u001b[1m5s\u001b[0m 3ms/step - accuracy: 0.8518 - loss: 0.3581 - val_accuracy: 0.7255 - val_loss: 0.7945\n",
            "Epoch 10/10\n",
            "\u001b[1m1531/1531\u001b[0m \u001b[32m━━━━━━━━━━━━━━━━━━━━\u001b[0m\u001b[37m\u001b[0m \u001b[1m5s\u001b[0m 3ms/step - accuracy: 0.8608 - loss: 0.3417 - val_accuracy: 0.7254 - val_loss: 0.8412\n"
          ]
        },
        {
          "output_type": "execute_result",
          "data": {
            "text/plain": [
              "<keras.src.callbacks.history.History at 0x78909452cdd0>"
            ]
          },
          "metadata": {},
          "execution_count": 28
        }
      ]
    },
    {
      "cell_type": "code",
      "metadata": {
        "colab": {
          "base_uri": "https://localhost:8080/"
        },
        "id": "_UK8E-YizdHm",
        "outputId": "35e09093-c804-403e-c1a6-30f9e67fcfa7"
      },
      "source": [
        "model.evaluate(x=X_test, y=y_test)"
      ],
      "execution_count": null,
      "outputs": [
        {
          "output_type": "stream",
          "name": "stdout",
          "text": [
            "\u001b[1m681/681\u001b[0m \u001b[32m━━━━━━━━━━━━━━━━━━━━\u001b[0m\u001b[37m\u001b[0m \u001b[1m2s\u001b[0m 3ms/step - accuracy: 0.7215 - loss: 0.8522\n"
          ]
        },
        {
          "output_type": "execute_result",
          "data": {
            "text/plain": [
              "[0.8646668195724487, 0.7198493480682373]"
            ]
          },
          "metadata": {},
          "execution_count": 29
        }
      ]
    },
    {
      "cell_type": "markdown",
      "metadata": {
        "id": "01CNy95avbyk"
      },
      "source": [
        "Note that the largest class is Rock, with around 58%, so a dummy predictor that outputs the most common class would get 58% accuracy.\n",
        "\n",
        "Our simple 1-hidden layer NN using multi-hot encoding improves on that nicely!!\n"
      ]
    },
    {
      "cell_type": "markdown",
      "source": [
        "## Adding Context with Bigrams\n"
      ],
      "metadata": {
        "id": "v-tcLXYnSFlZ"
      }
    },
    {
      "cell_type": "markdown",
      "metadata": {
        "id": "2XVmfUcNzbrz"
      },
      "source": [
        "\n",
        "Can we do better? Is there any aspect of the text that we're failing to capture with what we have done so far?\n",
        "\n",
        "Suppose we're trying to predict the sentiment of a movie review that looks something like this (Note: I can't find the source of this review).\n",
        "\n",
        "\"Kate Winslet's performance as a detective trying to solve a terrible crime in a small Pennsylvania town is anything but disappointing.\"\n",
        "\n",
        "A model looking at each word *separately* will get misled by the words \"terrible\" and \"disappointing\" since they have a negative sentiment if looked in isolation.\n",
        "\n",
        "However, by looking at the words near them (\"terrible crime\", \"anything but disappointing\"), you can see that it is actually a positive review.\n",
        "\n",
        "\"Nearby\" words can thus provide valuable context. And this is useful even for single, atomic concepts that happen to be described using multiple words e.g., United States.\n",
        "\n",
        "So, how can we make our models more aware of \"nearby\" words?\n",
        "\n",
        "We can try **bigrams**, which  use *two consecutive* words as the level of tokenization.\n",
        "\n",
        "For example, the sentence \"the cat sat on the mat\" becomes:\n",
        "\n",
        "Using single words:\n",
        "`{\"cat\", \"mat\", \"on\", \"sat\", \"the\"}`\n",
        "\n",
        "With bigrams: `{\"the\", \"the cat\", \"cat\", \"cat sat\", \"sat\",\n",
        " \"sat on\", \"on\", \"on the\", \"the mat\", \"mat\"}`\n",
        "\n",
        "We don't have to stop with bigrams. We can go to trigrams or higher.\n"
      ]
    },
    {
      "cell_type": "markdown",
      "source": [
        "Let's warm up with a simple example."
      ],
      "metadata": {
        "id": "rdvh92QNaC2H"
      }
    },
    {
      "cell_type": "code",
      "source": [
        "# Text Vectorization layer using bigrams\n",
        "text_vectorization = keras.layers.TextVectorization(\n",
        "    ngrams=2,\n",
        "    output_mode=\"multi_hot\")"
      ],
      "metadata": {
        "id": "JUjx6b1fYBRH"
      },
      "execution_count": null,
      "outputs": []
    },
    {
      "cell_type": "code",
      "source": [
        "text_vectorization.adapt([\"the cat sat on the mat.\"])"
      ],
      "metadata": {
        "id": "JuE38E7TY4OI"
      },
      "execution_count": null,
      "outputs": []
    },
    {
      "cell_type": "code",
      "source": [
        "text_vectorization.get_vocabulary()"
      ],
      "metadata": {
        "colab": {
          "base_uri": "https://localhost:8080/"
        },
        "id": "zsGUhf9pZVWa",
        "outputId": "fe56a6e3-d054-4e4e-e8d3-3f58aa256931"
      },
      "execution_count": null,
      "outputs": [
        {
          "output_type": "execute_result",
          "data": {
            "text/plain": [
              "['[UNK]',\n",
              " 'the',\n",
              " 'the mat',\n",
              " 'the cat',\n",
              " 'sat on',\n",
              " 'sat',\n",
              " 'on the',\n",
              " 'on',\n",
              " 'mat',\n",
              " 'cat sat',\n",
              " 'cat']"
            ]
          },
          "metadata": {},
          "execution_count": 32
        }
      ]
    },
    {
      "cell_type": "markdown",
      "source": [
        "See how bigrams are generated? Now back to the original problem."
      ],
      "metadata": {
        "id": "1W4TzcNwa2yY"
      }
    },
    {
      "cell_type": "code",
      "metadata": {
        "id": "vr8KBz3fzp3n"
      },
      "source": [
        "# Text Vectorization layer using bigrams\n",
        "\n",
        "text_vectorization = keras.layers.TextVectorization(\n",
        "    ngrams=2,\n",
        "    max_tokens=20000,  #note that we are increasing this from 5000 to accommodate bigrams\n",
        "    output_mode=\"multi_hot\",\n",
        ")"
      ],
      "execution_count": null,
      "outputs": []
    },
    {
      "cell_type": "code",
      "source": [
        "# We run the STIE process on the training corpus\n",
        "text_vectorization.adapt(train_df['Lyric'])"
      ],
      "metadata": {
        "id": "S9I5QHRrXgIf"
      },
      "execution_count": null,
      "outputs": []
    },
    {
      "cell_type": "markdown",
      "source": [
        "Let's see what the first and last 10 items in the vocabulary are."
      ],
      "metadata": {
        "id": "rqA6rKSrbKwl"
      }
    },
    {
      "cell_type": "code",
      "source": [
        "text_vectorization.get_vocabulary()[:10]"
      ],
      "metadata": {
        "colab": {
          "base_uri": "https://localhost:8080/"
        },
        "id": "mdrrBulnqU4F",
        "outputId": "fb987fc8-7ec9-4fa7-aa19-cc16b2b32a89"
      },
      "execution_count": null,
      "outputs": [
        {
          "output_type": "execute_result",
          "data": {
            "text/plain": [
              "['[UNK]', 'the', 'you', 'i', 'to', 'and', 'a', 'me', 'it', 'my']"
            ]
          },
          "metadata": {},
          "execution_count": 35
        }
      ]
    },
    {
      "cell_type": "code",
      "source": [
        "text_vectorization.get_vocabulary()[-10:]"
      ],
      "metadata": {
        "colab": {
          "base_uri": "https://localhost:8080/"
        },
        "id": "KGno8GcWbKag",
        "outputId": "d9d97235-b337-4d0b-de98-c6392beaa608"
      },
      "execution_count": null,
      "outputs": [
        {
          "output_type": "execute_result",
          "data": {
            "text/plain": [
              "['8x',\n",
              " '44',\n",
              " 'you’re a',\n",
              " 'your mom',\n",
              " 'your god',\n",
              " 'you shot',\n",
              " 'you hell',\n",
              " 'you far',\n",
              " 'ya all',\n",
              " 'x6']"
            ]
          },
          "metadata": {},
          "execution_count": 36
        }
      ]
    },
    {
      "cell_type": "code",
      "source": [
        "X_train = text_vectorization(train_df['Lyric'])\n",
        "X_val = text_vectorization(val_df['Lyric'])\n",
        "X_test = text_vectorization(test_df['Lyric'])"
      ],
      "metadata": {
        "id": "03qF8KZQSxUw"
      },
      "execution_count": null,
      "outputs": []
    },
    {
      "cell_type": "code",
      "source": [
        "inputs = keras.Input(shape=(20000,))\n",
        "x = keras.layers.Dense(8, activation=\"relu\")(inputs)\n",
        "x = keras.layers.Dropout(0.5)(x)\n",
        "outputs = keras.layers.Dense(3, activation=\"softmax\")(x)\n",
        "\n",
        "model = keras.Model(inputs, outputs)\n",
        "model.summary()"
      ],
      "metadata": {
        "id": "uaCOVYlND79B",
        "colab": {
          "base_uri": "https://localhost:8080/",
          "height": 257
        },
        "outputId": "adc6a491-a758-437d-9703-d3ef67af9465"
      },
      "execution_count": null,
      "outputs": [
        {
          "output_type": "display_data",
          "data": {
            "text/plain": [
              "\u001b[1mModel: \"functional_1\"\u001b[0m\n"
            ],
            "text/html": [
              "<pre style=\"white-space:pre;overflow-x:auto;line-height:normal;font-family:Menlo,'DejaVu Sans Mono',consolas,'Courier New',monospace\"><span style=\"font-weight: bold\">Model: \"functional_1\"</span>\n",
              "</pre>\n"
            ]
          },
          "metadata": {}
        },
        {
          "output_type": "display_data",
          "data": {
            "text/plain": [
              "┏━━━━━━━━━━━━━━━━━━━━━━━━━━━━━━━━━━━━━━┳━━━━━━━━━━━━━━━━━━━━━━━━━━━━━┳━━━━━━━━━━━━━━━━━┓\n",
              "┃\u001b[1m \u001b[0m\u001b[1mLayer (type)                        \u001b[0m\u001b[1m \u001b[0m┃\u001b[1m \u001b[0m\u001b[1mOutput Shape               \u001b[0m\u001b[1m \u001b[0m┃\u001b[1m \u001b[0m\u001b[1m        Param #\u001b[0m\u001b[1m \u001b[0m┃\n",
              "┡━━━━━━━━━━━━━━━━━━━━━━━━━━━━━━━━━━━━━━╇━━━━━━━━━━━━━━━━━━━━━━━━━━━━━╇━━━━━━━━━━━━━━━━━┩\n",
              "│ input_layer_1 (\u001b[38;5;33mInputLayer\u001b[0m)           │ (\u001b[38;5;45mNone\u001b[0m, \u001b[38;5;34m20000\u001b[0m)               │               \u001b[38;5;34m0\u001b[0m │\n",
              "├──────────────────────────────────────┼─────────────────────────────┼─────────────────┤\n",
              "│ dense_2 (\u001b[38;5;33mDense\u001b[0m)                      │ (\u001b[38;5;45mNone\u001b[0m, \u001b[38;5;34m8\u001b[0m)                   │         \u001b[38;5;34m160,008\u001b[0m │\n",
              "├──────────────────────────────────────┼─────────────────────────────┼─────────────────┤\n",
              "│ dropout (\u001b[38;5;33mDropout\u001b[0m)                    │ (\u001b[38;5;45mNone\u001b[0m, \u001b[38;5;34m8\u001b[0m)                   │               \u001b[38;5;34m0\u001b[0m │\n",
              "├──────────────────────────────────────┼─────────────────────────────┼─────────────────┤\n",
              "│ dense_3 (\u001b[38;5;33mDense\u001b[0m)                      │ (\u001b[38;5;45mNone\u001b[0m, \u001b[38;5;34m3\u001b[0m)                   │              \u001b[38;5;34m27\u001b[0m │\n",
              "└──────────────────────────────────────┴─────────────────────────────┴─────────────────┘\n"
            ],
            "text/html": [
              "<pre style=\"white-space:pre;overflow-x:auto;line-height:normal;font-family:Menlo,'DejaVu Sans Mono',consolas,'Courier New',monospace\">┏━━━━━━━━━━━━━━━━━━━━━━━━━━━━━━━━━━━━━━┳━━━━━━━━━━━━━━━━━━━━━━━━━━━━━┳━━━━━━━━━━━━━━━━━┓\n",
              "┃<span style=\"font-weight: bold\"> Layer (type)                         </span>┃<span style=\"font-weight: bold\"> Output Shape                </span>┃<span style=\"font-weight: bold\">         Param # </span>┃\n",
              "┡━━━━━━━━━━━━━━━━━━━━━━━━━━━━━━━━━━━━━━╇━━━━━━━━━━━━━━━━━━━━━━━━━━━━━╇━━━━━━━━━━━━━━━━━┩\n",
              "│ input_layer_1 (<span style=\"color: #0087ff; text-decoration-color: #0087ff\">InputLayer</span>)           │ (<span style=\"color: #00d7ff; text-decoration-color: #00d7ff\">None</span>, <span style=\"color: #00af00; text-decoration-color: #00af00\">20000</span>)               │               <span style=\"color: #00af00; text-decoration-color: #00af00\">0</span> │\n",
              "├──────────────────────────────────────┼─────────────────────────────┼─────────────────┤\n",
              "│ dense_2 (<span style=\"color: #0087ff; text-decoration-color: #0087ff\">Dense</span>)                      │ (<span style=\"color: #00d7ff; text-decoration-color: #00d7ff\">None</span>, <span style=\"color: #00af00; text-decoration-color: #00af00\">8</span>)                   │         <span style=\"color: #00af00; text-decoration-color: #00af00\">160,008</span> │\n",
              "├──────────────────────────────────────┼─────────────────────────────┼─────────────────┤\n",
              "│ dropout (<span style=\"color: #0087ff; text-decoration-color: #0087ff\">Dropout</span>)                    │ (<span style=\"color: #00d7ff; text-decoration-color: #00d7ff\">None</span>, <span style=\"color: #00af00; text-decoration-color: #00af00\">8</span>)                   │               <span style=\"color: #00af00; text-decoration-color: #00af00\">0</span> │\n",
              "├──────────────────────────────────────┼─────────────────────────────┼─────────────────┤\n",
              "│ dense_3 (<span style=\"color: #0087ff; text-decoration-color: #0087ff\">Dense</span>)                      │ (<span style=\"color: #00d7ff; text-decoration-color: #00d7ff\">None</span>, <span style=\"color: #00af00; text-decoration-color: #00af00\">3</span>)                   │              <span style=\"color: #00af00; text-decoration-color: #00af00\">27</span> │\n",
              "└──────────────────────────────────────┴─────────────────────────────┴─────────────────┘\n",
              "</pre>\n"
            ]
          },
          "metadata": {}
        },
        {
          "output_type": "display_data",
          "data": {
            "text/plain": [
              "\u001b[1m Total params: \u001b[0m\u001b[38;5;34m160,035\u001b[0m (625.14 KB)\n"
            ],
            "text/html": [
              "<pre style=\"white-space:pre;overflow-x:auto;line-height:normal;font-family:Menlo,'DejaVu Sans Mono',consolas,'Courier New',monospace\"><span style=\"font-weight: bold\"> Total params: </span><span style=\"color: #00af00; text-decoration-color: #00af00\">160,035</span> (625.14 KB)\n",
              "</pre>\n"
            ]
          },
          "metadata": {}
        },
        {
          "output_type": "display_data",
          "data": {
            "text/plain": [
              "\u001b[1m Trainable params: \u001b[0m\u001b[38;5;34m160,035\u001b[0m (625.14 KB)\n"
            ],
            "text/html": [
              "<pre style=\"white-space:pre;overflow-x:auto;line-height:normal;font-family:Menlo,'DejaVu Sans Mono',consolas,'Courier New',monospace\"><span style=\"font-weight: bold\"> Trainable params: </span><span style=\"color: #00af00; text-decoration-color: #00af00\">160,035</span> (625.14 KB)\n",
              "</pre>\n"
            ]
          },
          "metadata": {}
        },
        {
          "output_type": "display_data",
          "data": {
            "text/plain": [
              "\u001b[1m Non-trainable params: \u001b[0m\u001b[38;5;34m0\u001b[0m (0.00 B)\n"
            ],
            "text/html": [
              "<pre style=\"white-space:pre;overflow-x:auto;line-height:normal;font-family:Menlo,'DejaVu Sans Mono',consolas,'Courier New',monospace\"><span style=\"font-weight: bold\"> Non-trainable params: </span><span style=\"color: #00af00; text-decoration-color: #00af00\">0</span> (0.00 B)\n",
              "</pre>\n"
            ]
          },
          "metadata": {}
        }
      ]
    },
    {
      "cell_type": "markdown",
      "source": [
        "Quick sidebar: **Dropout**"
      ],
      "metadata": {
        "id": "bwOi1HilhkYw"
      }
    },
    {
      "cell_type": "markdown",
      "source": [
        "![image.png](data:image/png;base64,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)"
      ],
      "metadata": {
        "id": "FcL5LEGThglQ"
      }
    },
    {
      "cell_type": "code",
      "source": [
        "model.compile(optimizer=\"adam\",\n",
        "              loss=\"categorical_crossentropy\",\n",
        "              metrics=[\"accuracy\"])"
      ],
      "metadata": {
        "id": "u8jRgcavD5Hi"
      },
      "execution_count": null,
      "outputs": []
    },
    {
      "cell_type": "code",
      "source": [
        "# Fit model\n",
        "model.fit(x=X_train, y=y_train,\n",
        "          validation_data=(X_val, y_val),\n",
        "          epochs=3,\n",
        "          batch_size=32)"
      ],
      "metadata": {
        "id": "23ZN6ihED3Xt",
        "colab": {
          "base_uri": "https://localhost:8080/"
        },
        "outputId": "b27d1e03-1280-4c79-86f5-3f563e0fcd59"
      },
      "execution_count": null,
      "outputs": [
        {
          "output_type": "stream",
          "name": "stdout",
          "text": [
            "Epoch 1/3\n",
            "\u001b[1m1531/1531\u001b[0m \u001b[32m━━━━━━━━━━━━━━━━━━━━\u001b[0m\u001b[37m\u001b[0m \u001b[1m7s\u001b[0m 4ms/step - accuracy: 0.7406 - loss: 0.5867 - val_accuracy: 0.7503 - val_loss: 0.5887\n",
            "Epoch 2/3\n",
            "\u001b[1m1531/1531\u001b[0m \u001b[32m━━━━━━━━━━━━━━━━━━━━\u001b[0m\u001b[37m\u001b[0m \u001b[1m7s\u001b[0m 4ms/step - accuracy: 0.7582 - loss: 0.5585 - val_accuracy: 0.7463 - val_loss: 0.6029\n",
            "Epoch 3/3\n",
            "\u001b[1m1531/1531\u001b[0m \u001b[32m━━━━━━━━━━━━━━━━━━━━\u001b[0m\u001b[37m\u001b[0m \u001b[1m7s\u001b[0m 4ms/step - accuracy: 0.7662 - loss: 0.5451 - val_accuracy: 0.7494 - val_loss: 0.6195\n"
          ]
        },
        {
          "output_type": "execute_result",
          "data": {
            "text/plain": [
              "<keras.src.callbacks.history.History at 0x788fec7088d0>"
            ]
          },
          "metadata": {},
          "execution_count": 58
        }
      ]
    },
    {
      "cell_type": "code",
      "source": [
        "model.evaluate(x=X_test, y=y_test)"
      ],
      "metadata": {
        "colab": {
          "base_uri": "https://localhost:8080/"
        },
        "id": "Llx_v_NI24wp",
        "outputId": "cf1f05b8-0ca6-4dce-a67e-144a64e67370"
      },
      "execution_count": null,
      "outputs": [
        {
          "output_type": "stream",
          "name": "stdout",
          "text": [
            "\u001b[1m681/681\u001b[0m \u001b[32m━━━━━━━━━━━━━━━━━━━━\u001b[0m\u001b[37m\u001b[0m \u001b[1m2s\u001b[0m 3ms/step - accuracy: 0.7490 - loss: 0.6202\n"
          ]
        },
        {
          "output_type": "execute_result",
          "data": {
            "text/plain": [
              "[0.6321840882301331, 0.743363618850708]"
            ]
          },
          "metadata": {},
          "execution_count": 59
        }
      ]
    },
    {
      "cell_type": "markdown",
      "metadata": {
        "id": "maiapR292XUA"
      },
      "source": [
        "**Our test accuracy increased with just 3 epochs!!**\n",
        "\n",
        "This improvement highlights the importance of local word order.\n"
      ]
    },
    {
      "cell_type": "markdown",
      "source": [
        "Let's run the model on a lyric fragment and see what it predicts. We will create a little helper function to make life easier."
      ],
      "metadata": {
        "id": "n4znlNLI5Ms0"
      }
    },
    {
      "cell_type": "code",
      "source": [
        "def lyric_predict(phrase):\n",
        "    vect_data = text_vectorization([phrase])\n",
        "    predictions = model.predict(vect_data)\n",
        "    predictions\n",
        "    print(f\"{float(predictions[0,0] * 100):.2f} % Hip-Hop\")\n",
        "    print(f\"{float(predictions[0,1] * 100):.2f} % Pop\")\n",
        "    print(f\"{float(predictions[0,2] * 100):.2f} % Rock\")"
      ],
      "metadata": {
        "id": "Vw6TYGxrl8ry"
      },
      "execution_count": null,
      "outputs": []
    },
    {
      "cell_type": "code",
      "source": [
        "phrase = \"\"\"\n",
        "I remember when we broke up the first time\n",
        "Saying, \"This is it, I've had enough,\" 'cause like\n",
        "We hadn't seen each other in a month\n",
        "When you said you needed space (What?)\n",
        "Then you come around again and say\n",
        "\"Baby, I miss you and I swear I'm gonna change, trust me\"\n",
        "Remember how that lasted for a day?\n",
        "I say, \"I hate you,\" we break up, you call me, \"I love you\"\n",
        "Ooh-ooh-ooh-ooh-ooh\n",
        "We called it off again last night, but\n",
        "Ooh-ooh-ooh-ooh-ooh\n",
        "This time, I'm telling you, I'm telling you\n",
        "We are never, ever, ever getting back together\n",
        "We are never, ever, ever getting back together\n",
        "You go talk to your friends, talk to my friends, talk to me\n",
        "But we are never, ever, ever, ever getting back together\n",
        "Like, ever\n",
        "I'm really gonna miss you picking fights\n",
        "And me falling for it, screaming that I'm right\n",
        "And you would hide away and find your peace of mind\n",
        "With some indie record that's much cooler than mine\n",
        "\"\"\""
      ],
      "metadata": {
        "id": "DM4JcYI3mnkJ"
      },
      "execution_count": null,
      "outputs": []
    },
    {
      "cell_type": "code",
      "source": [
        "lyric_predict(phrase)"
      ],
      "metadata": {
        "colab": {
          "base_uri": "https://localhost:8080/"
        },
        "id": "fEiEPm5VrKUM",
        "outputId": "1a3ff295-2c3d-489c-d895-41ad078dfdec"
      },
      "execution_count": null,
      "outputs": [
        {
          "output_type": "stream",
          "name": "stdout",
          "text": [
            "\u001b[1m1/1\u001b[0m \u001b[32m━━━━━━━━━━━━━━━━━━━━\u001b[0m\u001b[37m\u001b[0m \u001b[1m0s\u001b[0m 34ms/step\n",
            "75.60 % Hip-Hop\n",
            "23.91 % Pop\n",
            "0.49 % Rock\n"
          ]
        }
      ]
    },
    {
      "cell_type": "markdown",
      "metadata": {
        "id": "FBfUb5j38pam"
      },
      "source": [
        "## Conclusions\n"
      ]
    },
    {
      "cell_type": "markdown",
      "source": [
        "\n",
        "- We studied a genre clasification task.\n",
        "- We learned different ways of how to represent text as numerical vectors that can be fed to a neural network structure.\n",
        "- We saw how adding context to the word representation via bigrams can increase the accuracy of our models."
      ],
      "metadata": {
        "id": "_eCV6296STmF"
      }
    }
  ]
}